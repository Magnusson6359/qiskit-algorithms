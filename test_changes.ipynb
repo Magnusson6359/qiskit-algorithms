{
 "cells": [
  {
   "cell_type": "markdown",
   "metadata": {},
   "source": [
    "# All changes done in Qiskit Algorithms\n",
    "1: added keyword non_hermitian in ImaginaryMcLachlanVariationalPrinciple which specifies that the Hamiltonian to be evolved under is non-Hermitian. \n",
    "\n",
    "2: Support for evolving non-Hermitian Hamiltonians by splitting in a Hermitian and an anti-Hermitian term. Modifies ImaginaryMcLachlanVariationalPrinciple, BaseEstimatorGradient, LinCombEstimatorGradient, _make_lin_comb_gradient_circuit.\n",
    "\n",
    "3: WIP -- RealMcLachlanVariationalPrinciple support."
   ]
  },
  {
   "cell_type": "markdown",
   "metadata": {},
   "source": [
    "## All changes done in Qiskit\n",
    "1: circuit_key function extended (in a hack) in order to prevent hash clash with Hermitian and anti-Hermitian gradient circuits."
   ]
  },
  {
   "cell_type": "markdown",
   "metadata": {},
   "source": [
    "## All changes done in Qiskit Aer\n",
    "1: Removed a check for Hermiticity in SaveExpectationValue and SaveExpectationValueVariance in order to handle transcorrelated Hamiltonians.\n",
    "\n",
    "2: Changing the circuit_key call to distinguish Hermitian and anti-Hermitian circuits in BackendEstimator and Estimator.\n",
    "\n",
    "3: real_if_close on the expectation values in Estimator"
   ]
  },
  {
   "cell_type": "markdown",
   "metadata": {},
   "source": []
  }
 ],
 "metadata": {
  "language_info": {
   "name": "python"
  }
 },
 "nbformat": 4,
 "nbformat_minor": 2
}
