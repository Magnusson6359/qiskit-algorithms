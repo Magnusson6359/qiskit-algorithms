{
 "cells": [
  {
   "cell_type": "code",
   "execution_count": 7,
   "metadata": {},
   "outputs": [],
   "source": [
    "import numpy as np\n",
    "import matplotlib.pyplot as plt\n",
    "import seaborn as sns\n",
    "\n",
    "from qiskit_nature.second_q.circuit.library import UCCSD, HartreeFock\n",
    "from qiskit_nature.second_q.algorithms.initial_points import HFInitialPoint\n",
    "from qiskit_nature.second_q.mappers import ParityMapper, JordanWignerMapper\n",
    "from qiskit_nature.units import DistanceUnit\n",
    "from qiskit_nature.second_q.drivers import PySCFDriver\n",
    "\n",
    "from qiskit_aer.primitives import Estimator as AerEstimator\n",
    "from qiskit_aer import noise\n",
    "from qiskit_ibm_runtime.fake_provider import FakeGuadalupeV2, FakeAthensV2\n",
    "\n",
    "# Homemade imports\n",
    "from qiskit_algorithms import VarQITE, TimeEvolutionProblem\n",
    "from qiskit_algorithms.gradients import LinCombEstimatorGradient, LinCombQGT\n",
    "import qiskit_algorithms.time_evolvers.variational.variational_principles.imaginary_mc_lachlan_principle as mc_lachlan\n",
    "import qiskit.primitives.utils as utils\n",
    "\n",
    "from qiskit.primitives import Estimator\n",
    "from qiskit.circuit.library import EfficientSU2\n",
    "from qiskit.quantum_info import SparsePauliOp\n",
    "from qiskit.quantum_info import Statevector\n"
   ]
  },
  {
   "cell_type": "code",
   "execution_count": 2,
   "metadata": {},
   "outputs": [
    {
     "name": "stdout",
     "output_type": "stream",
     "text": [
      "SparsePauliOp(['II', 'IZ', 'ZI', 'ZZ', 'XY', 'YX', 'XX'],\n",
      "              coeffs=[-1.09284335-0.j        ,  0.42027207-0.j        , -0.42027207-0.j        ,\n",
      " -0.01086588-0.j        ,  0.        -0.06359682j,  0.        +0.06359682j,\n",
      "  0.1576953 -0.j        ])\n"
     ]
    }
   ],
   "source": [
    "# Hamiltonian reading\n",
    "data = np.loadtxt('qubit_hamil_h2.txt', dtype=str) # H2, 0.7A sto6g\n",
    "paulistrings = data[:,0] \n",
    "coefficients = (data[:,1])\n",
    "#coefficients = [np.real(complex(coeff)) for coeff in coefficients]\n",
    "coefficiencts = [complex(coeff) for coeff in coefficients]\n",
    "paulis = list(zip(paulistrings, coefficients))\n",
    "qubit_op = SparsePauliOp.from_list(paulis)\n",
    "\n",
    "qubit_op = qubit_op.adjoint()\n",
    "#print(f\"Number of qubits: {qubit_op.num_qubits}\")\n",
    "print(qubit_op)\n",
    "#qubit_mat = qubit_op.to_matrix()\n",
    "#print(qubit_mat - qubit_mat.conj().T) # Is non-Hermitian!"
   ]
  },
  {
   "cell_type": "code",
   "execution_count": 3,
   "metadata": {},
   "outputs": [
    {
     "name": "stdout",
     "output_type": "stream",
     "text": [
      "SparsePauliOp(['II', 'IZ', 'ZI', 'ZZ', 'XX'],\n",
      "              coeffs=[-1.05178903+0.j,  0.4209349 +0.j, -0.4209349 +0.j, -0.01159108+0.j,\n",
      "  0.17928567+0.j])\n"
     ]
    }
   ],
   "source": [
    "# Equivalent problem to Hamiltonian\n",
    "driver = PySCFDriver(\n",
    "    atom = \"H 0 0 0; H 0 0 0.7\",\n",
    "    unit=DistanceUnit.ANGSTROM,\n",
    "    charge=0,\n",
    "    spin=0,\n",
    "    basis='sto6g'\n",
    ")\n",
    "problem = driver.run()\n",
    "h = problem.hamiltonian.second_q_op()\n",
    "\n",
    "# Mapper\n",
    "mapper = ParityMapper(num_particles = problem.num_particles)\n",
    "qubit_op2 = mapper.map(h)\n",
    "print(qubit_op2)\n",
    "#qubit_mat = qubit_op2.to_matrix()\n",
    "#print(qubit_mat - qubit_mat.conj().T) # Is Hermitian!"
   ]
  },
  {
   "cell_type": "code",
   "execution_count": 36,
   "metadata": {},
   "outputs": [],
   "source": [
    "# Settings for all estimators\n",
    "numshots = 10000\n",
    "seed = 170\n",
    "\n",
    "# Simple noise model with depolarizing error\n",
    "prob_1 = 0.001  # 1-qubit gate\n",
    "prob_2 = 0.01   # 2-qubit gate\n",
    "error_1 = noise.depolarizing_error(prob_1, 1)\n",
    "error_2 = noise.depolarizing_error(prob_2, 2)\n",
    "\n",
    "# Measurement miss-assignement probabilities\n",
    "p0given1 = 0.1\n",
    "p1given0 = 0.05\n",
    "error_3 = noise.ReadoutError([[1 - p1given0, p1given0], [p0given1, 1 - p0given1]])\n",
    "\n",
    "# Add errors to noise model\n",
    "noise_model = noise.NoiseModel()\n",
    "noise_model.add_all_qubit_quantum_error(error_1, ['u1', 'u2', 'u3'])\n",
    "noise_model.add_all_qubit_quantum_error(error_2, ['cx'])\n",
    "#noise_model.add_all_qubit_readout_error(error_3)\n",
    "\n",
    "# Get basis gates from noise model\n",
    "basis_gates = noise_model.basis_gates\n",
    "\n",
    "# Estimators\n",
    "estimator = Estimator(options={'seed': seed})\n",
    "shot_estimator = Estimator(options={'seed': seed, 'shots': numshots})\n",
    "noisy_estimator = AerEstimator(\n",
    "    backend_options={\n",
    "        \"method\": \"density_matrix\",\n",
    "        \"noise_model\": noise_model,\n",
    "    },\n",
    "    run_options={\"seed\": seed, \"shots\": numshots},\n",
    "    transpile_options={\"seed_transpiler\": seed},\n",
    ")"
   ]
  },
  {
   "cell_type": "code",
   "execution_count": 9,
   "metadata": {},
   "outputs": [
    {
     "data": {
      "image/png": "[encoded data removed]",
      "text/plain": [
       "<Figure size 287.294x200.667 with 1 Axes>"
      ]
     },
     "execution_count": 9,
     "metadata": {},
     "output_type": "execute_result"
    }
   ],
   "source": [
    "# Ansatz\n",
    "#ansatz = UCCSD(num_spatial_orbitals = problem.num_spatial_orbitals, num_particles = problem.num_particles, qubit_mapper=mapper)\n",
    "#init_param_values = [0,3*np.pi/2,-np.pi/2] # surely there should be some systematic way of doing this...\n",
    "#ansatz.decompose().decompose().decompose().draw(\"mpl\")\n",
    "\n",
    "\n",
    "ansatz = EfficientSU2(num_qubits = qubit_op2.num_qubits, reps=1, su2_gates=[\"ry\"], skip_final_rotation_layer=True)\n",
    "init_param_values = [np.pi,np.pi]\n",
    "ansatz.decompose().draw(\"mpl\")\n"
   ]
  },
  {
   "cell_type": "code",
   "execution_count": 10,
   "metadata": {},
   "outputs": [
    {
     "name": "stdout",
     "output_type": "stream",
     "text": [
      "2\n"
     ]
    },
    {
     "data": {
      "text/latex": [
       "$$ |01\\rangle$$"
      ],
      "text/plain": [
       "<IPython.core.display.Latex object>"
      ]
     },
     "execution_count": 10,
     "metadata": {},
     "output_type": "execute_result"
    }
   ],
   "source": [
    "# Initial state\n",
    "# hf_state = HartreeFock(num_spatial_orbitals = problem.num_spatial_orbitals, num_particles = problem.num_particles, qubit_mapper=mapper)\n",
    "# print(hf_state)\n",
    "\n",
    "# Testing the initial state\n",
    "print(ansatz.num_parameters)\n",
    "state = Statevector.from_int(0, 2**qubit_op.num_qubits)\n",
    "test_circ = ansatz.assign_parameters(init_param_values)\n",
    "state = state.evolve(test_circ)\n",
    "state.draw('latex')"
   ]
  },
  {
   "cell_type": "code",
   "execution_count": 11,
   "metadata": {},
   "outputs": [],
   "source": [
    "###############\n",
    "### VarQITE ###\n",
    "###############\n",
    "# This is the TC Hamiltonian with the modified code.\n",
    "\n",
    "# The 2 main tunable parameters\n",
    "total_time=5\n",
    "num_timesteps = 50\n",
    "\n",
    "var_principle = mc_lachlan.ImaginaryMcLachlanPrinciple(qgt=LinCombQGT(estimator), \n",
    "                                                       gradient=LinCombEstimatorGradient(estimator), \n",
    "                                                       is_non_hermitian=True)\n",
    "time_evo = TimeEvolutionProblem(qubit_op, \n",
    "                                time=total_time, \n",
    "                                aux_operators=[qubit_op])\n",
    "qite = VarQITE(ansatz, init_param_values, \n",
    "               variational_principle = var_principle,\n",
    "               estimator=estimator, \n",
    "               num_timesteps=num_timesteps)\n",
    "result = qite.evolve(time_evo)"
   ]
  },
  {
   "cell_type": "code",
   "execution_count": 12,
   "metadata": {},
   "outputs": [],
   "source": [
    "###############\n",
    "### VarQITE ###\n",
    "###############\n",
    "# This is the TC Hamiltonian with the modified code, with shot noise.\n",
    "\n",
    "# The 2 main tunable parameters\n",
    "total_time=5\n",
    "num_timesteps = 50\n",
    "\n",
    "var_principle = mc_lachlan.ImaginaryMcLachlanPrinciple(qgt=LinCombQGT(shot_estimator), \n",
    "                                                       gradient=LinCombEstimatorGradient(shot_estimator), \n",
    "                                                       is_non_hermitian=True)\n",
    "time_evo = TimeEvolutionProblem(qubit_op, \n",
    "                                time=total_time, \n",
    "                                aux_operators=[qubit_op])\n",
    "qite = VarQITE(ansatz, init_param_values, \n",
    "               variational_principle = var_principle,\n",
    "               estimator=shot_estimator, \n",
    "               num_timesteps=num_timesteps)\n",
    "result_shotnoise = qite.evolve(time_evo)"
   ]
  },
  {
   "cell_type": "code",
   "execution_count": 37,
   "metadata": {},
   "outputs": [],
   "source": [
    "###############\n",
    "### VarQITE ###\n",
    "###############\n",
    "# This is the TC Hamiltonian with the modified code, with noise model.\n",
    "\n",
    "# The 2 main tunable parameters\n",
    "total_time=5\n",
    "num_timesteps = 50\n",
    "\n",
    "var_principle = mc_lachlan.ImaginaryMcLachlanPrinciple(qgt=LinCombQGT(noisy_estimator), \n",
    "                                                       gradient=LinCombEstimatorGradient(noisy_estimator), \n",
    "                                                       is_non_hermitian=True)\n",
    "time_evo = TimeEvolutionProblem(qubit_op, \n",
    "                                time=total_time, \n",
    "                                aux_operators=[qubit_op])\n",
    "qite = VarQITE(ansatz, init_param_values, \n",
    "               variational_principle = var_principle,\n",
    "               estimator=noisy_estimator, \n",
    "               num_timesteps=num_timesteps)\n",
    "result_noise = qite.evolve(time_evo)"
   ]
  },
  {
   "cell_type": "code",
   "execution_count": 14,
   "metadata": {},
   "outputs": [],
   "source": [
    "###############\n",
    "### VarQITE ###\n",
    "###############\n",
    "# This is the non-TC Hamiltonian.\n",
    "\n",
    "# The 2 main tunable parameters\n",
    "total_time=5\n",
    "num_timesteps = 50\n",
    "\n",
    "var_principle = mc_lachlan.ImaginaryMcLachlanPrinciple(qgt=LinCombQGT(estimator), gradient=LinCombEstimatorGradient(estimator))\n",
    "time_evo = TimeEvolutionProblem(qubit_op2, \n",
    "                                time=total_time, \n",
    "                                aux_operators=[qubit_op2])\n",
    "qite = VarQITE(ansatz, init_param_values, \n",
    "               variational_principle = var_principle,\n",
    "               estimator=estimator, \n",
    "               num_timesteps=num_timesteps)\n",
    "result2 = qite.evolve(time_evo)"
   ]
  },
  {
   "cell_type": "code",
   "execution_count": 15,
   "metadata": {},
   "outputs": [],
   "source": [
    "data = np.loadtxt(\"energy_trace_h2.dat\")\n",
    "avqite_times = data[:,0]\n",
    "avqite_energies = data[:,2]\n",
    "initial_time=data[0,0]\n",
    "initial_energy=data[0,2]\n",
    "#print(f\"Initial time: {initial_time}, Initial energy: {initial_energy}\")"
   ]
  },
  {
   "cell_type": "code",
   "execution_count": 38,
   "metadata": {},
   "outputs": [
    {
     "data": {
      "text/plain": [
       "<matplotlib.legend.Legend at 0x3180ba180>"
      ]
     },
     "execution_count": 38,
     "metadata": {},
     "output_type": "execute_result"
    },
    {
     "data": {
      "image/png": "[encoded data removed]",
      "text/plain": [
       "<Figure size 500x700 with 2 Axes>"
      ]
     },
     "metadata": {},
     "output_type": "display_data"
    }
   ],
   "source": [
    "sns.set_context(\"paper\")\n",
    "fig, axs = plt.subplots(2,1,sharex=True)\n",
    "fig.set_figheight(7)\n",
    "fig.set_figwidth(5)\n",
    "ax = axs[0]\n",
    "ax2 = axs[1]\n",
    "#DELTA_BIG = 50\n",
    "DELTA_BIG = 2\n",
    "sys = \"h2\"\n",
    "e_exact = {\"h2\": -1.9276748321, \"h4\": -4.3860854160}\n",
    "e_exact_notc = {\"h2\": -1.9009465237, \"h4\": None} \n",
    "\n",
    "h_exp_val = np.array([ele[0][0].real for ele in result.observables])\n",
    "times = result.times\n",
    "h_exp_val2 = np.array([ele[0][0].real for ele in result2.observables])\n",
    "times2 = result2.times\n",
    "h_exp_val_shotnoise = np.array([ele[0][0].real for ele in result_shotnoise.observables])\n",
    "times_shotnoise = result_shotnoise.times\n",
    "h_exp_val_noise = np.array([ele[0][0].real for ele in result_noise.observables])\n",
    "times_noise = result_noise.times\n",
    "\n",
    "#print(f\"E0_noisy: {h_exp_val_noise[0]}, E0_noTC: {h_exp_val2[0]}, E0_TC: {h_exp_val[0]}\")\n",
    "\n",
    "ax.plot(times2, h_exp_val2, '-ro', label= \"No TC\", alpha=0.75) #+ extracted_transformer_energy+ nuclear_repulsion_energy\n",
    "ax.plot(times, h_exp_val, '-gs', label= \"Statevec\", alpha=0.75) #+ extracted_transformer_energy+ nuclear_repulsion_energy\n",
    "ax.plot(times_shotnoise, h_exp_val_shotnoise, '-c^', label= \"Shot noise\", alpha=0.75) #+ extracted_transformer_energy+ nuclear_repulsion_energy\n",
    "ax.plot(times_noise, h_exp_val_noise, '-m*', label= \"Noise model\", alpha=0.75) #+ extracted_transformer_energy+ nuclear_repulsion_energy\n",
    "ax.plot(avqite_times[::DELTA_BIG], avqite_energies[::DELTA_BIG], '-bd', label= \"Own\", alpha=0.75)\n",
    "ax.plot([e_exact[sys]]*(int(times[-1])+15), '--k', label= \"ED\")\n",
    "ax.plot([e_exact_notc[sys]]*(int(times[-1])+15), '--k')\n",
    "ax.set_ylabel(r\"$\\langle H_e \\rangle$ (Ha)\")\n",
    "#ax.legend()\n",
    "ax.set_xlim([0, times[-1]])\n",
    "\n",
    "#print(f\"Final Qiskit electronic energy: {h_exp_val[-1]} Ha\")\n",
    "#print(f\"Compare with Qutip ED: -4.3860854160 Ha\")\n",
    "#print(f\"Compare with TC-VarQITE for UCCSD: -4.3860791082 Ha\")\n",
    "\n",
    "\n",
    "ax2.plot(times, abs(h_exp_val-e_exact[sys]), \"-gs\", label= \"Statevec\")\n",
    "ax2.plot(times_shotnoise, abs(h_exp_val_shotnoise-e_exact[sys]), \"-c^\", label= \"Shot noise\")\n",
    "ax2.plot(times_noise, abs(h_exp_val_noise-e_exact[sys]), \"-m*\", label= \"Noise model\")\n",
    "ax2.plot(avqite_times[::DELTA_BIG], abs(avqite_energies-e_exact[sys])[::DELTA_BIG], \"-bd\", label= \"Own\", alpha=0.75)\n",
    "ax2.fill_between([0,times[-1]],[1e-3,1e-3],color=\"grey\",alpha=0.3,label=\"Comp. acc.\")\n",
    "ax2.set_xlabel(\"Imaginary seconds\")\n",
    "ax2.set_ylabel(r\"$\\left|\\langle H_e \\rangle - E_{ED}^{TC}\\right|$ (Ha)\")\n",
    "ax2.set_yscale(\"log\")\n",
    "ax2.set_xlim([0, times[-1]])\n",
    "\n",
    "h, l = ax.get_legend_handles_labels()\n",
    "h2, l2 = ax2.get_legend_handles_labels()\n",
    "for index, label in enumerate(l2):\n",
    "    if label not in l:\n",
    "        l.append(label)\n",
    "        h.append(h2[index])\n",
    "ax2.legend(h, l)\n"
   ]
  },
  {
   "cell_type": "code",
   "execution_count": null,
   "metadata": {},
   "outputs": [],
   "source": [
    "# Scaled down \"realistic\" noise model:\n",
    "\n",
    "device = FakeAthensV2()\n",
    "coupling_map = device.coupling_map\n",
    "print('Number of device qubits: ', device.num_qubits)\n",
    "\n",
    "# Noise model\n",
    "noise_model = NoiseModel.from_backend(device)\n",
    "\n",
    "# Alpha: how much to multiply readout fidelity.\n",
    "alpha = 1\n",
    "#alpha = 10\n",
    "\n",
    "# Beta: how much to multiply 1-qubit gate fidelity.\n",
    "beta = 1\n",
    "#beta = 10\n",
    "\n",
    "# Gamma: how much to multiply 2-qubit gate fidelity.\n",
    "gamma = 1\n",
    "#gamma = 10\n",
    "\n",
    "# Noise model\n",
    "noise_model = NoiseModel.from_backend(device)\n",
    "\n",
    "# Modify noise models, local quantum errors and readout errors.\n",
    "\n",
    "# Local quantum errors\n",
    "for gate in noise_model._local_quantum_errors:\n",
    "    # Assumes that #possible 2 qubit gates > #qubits. NOT A SAFE ASSUMPTION FOR SMALL DEVICES.\n",
    "    if len(noise_model._local_quantum_errors[gate].keys()) > device.num_qubits:\n",
    "        # 2 qubit gates\n",
    "        print(f\"Quantum error for gate {gate}: {noise_model._local_quantum_errors[gate]}\")\n",
    "    else:\n",
    "        # 1 qubit gates\n",
    "        #print(f\"Quantum error for gate {gate}: {noise_model._local_quantum_errors[gate]}\")\n",
    "        for qubit in noise_model._local_quantum_errors[gate]:\n",
    "            #print((noise_model._local_quantum_errors[gate][qubit]))\n",
    "            print((noise_model._local_quantum_errors[gate][qubit]).probabilities)\n",
    "            #prob_mat = (noise_model._local_quantum_errors[gate][qubit]).probabilities\n",
    "            #new_prob_mat = np.array([[beta, 1/beta],[1/beta, beta]]) * prob_mat\n",
    "            #new_prob_mat = new_prob_mat / np.linalg.norm(new_prob_mat, ord=1)\n",
    "            #noise_model._local_quantum_errors[gate][qubit] = new_prob_mat\n",
    "            #print(f\"Quantum error for gate {gate} on qubit {qubit}: {noise_model._local_quantum_errors[gate][qubit]}\")\n",
    "        #print(noise_model._local_quantum_errors[gate])\n",
    "\n",
    "# Readout errors\n",
    "for qubit in noise_model._local_readout_errors:\n",
    "    prob_mat = (noise_model._local_readout_errors[qubit]).probabilities\n",
    "    #prob_mat = [[0.9, 0.1], [0.1, 0.9]]\n",
    "    new_prob_mat = np.array([[alpha, 1/alpha],[1/alpha, alpha]]) * prob_mat\n",
    "    new_prob_mat = new_prob_mat / np.linalg.norm(new_prob_mat, ord=1)\n",
    "    noise_model._local_readout_errors[qubit] = new_prob_mat\n",
    "    #print(f\"Readout error for qubit {qubit}: {noise_model._local_readout_errors[qubit]}\")\n",
    "\n",
    "\n",
    "# Noisy estimator\n",
    "noisy_estimator = AerEstimator(\n",
    "    backend_options={\n",
    "        \"method\": \"density_matrix\",\n",
    "        \"coupling_map\": coupling_map,\n",
    "        \"noise_model\": noise_model,\n",
    "    },\n",
    "    run_options={\"seed\": seed, \"shots\": numshots},\n",
    "    transpile_options={\"seed_transpiler\": seed},\n",
    ")"
   ]
  }
 ],
 "metadata": {
  "kernelspec": {
   "display_name": ".venv",
   "language": "python",
   "name": "python3"
  },
  "language_info": {
   "codemirror_mode": {
    "name": "ipython",
    "version": 3
   },
   "file_extension": ".py",
   "mimetype": "text/x-python",
   "name": "python",
   "nbconvert_exporter": "python",
   "pygments_lexer": "ipython3",
   "version": "3.12.0"
  }
 },
 "nbformat": 4,
 "nbformat_minor": 2
}
