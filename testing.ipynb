{
 "cells": [
  {
   "cell_type": "code",
   "execution_count": 17,
   "metadata": {},
   "outputs": [],
   "source": [
    "import numpy as np\n",
    "import matplotlib.pyplot as plt\n",
    "import seaborn as sns\n",
    "\n",
    "from qiskit_nature.second_q.circuit.library import UCCSD, HartreeFock\n",
    "from qiskit_nature.second_q.algorithms.initial_points import HFInitialPoint\n",
    "from qiskit_nature.second_q.mappers import ParityMapper, JordanWignerMapper\n",
    "from qiskit_nature.units import DistanceUnit\n",
    "from qiskit_nature.second_q.drivers import PySCFDriver\n",
    "\n",
    "from qiskit_aer.primitives import Estimator as AerEstimator\n",
    "from qiskit_aer import noise\n",
    "from qiskit_ibm_runtime.fake_provider import FakeGuadalupeV2, FakeAthensV2, FakeAthens\n",
    "\n",
    "# Homemade imports\n",
    "from qiskit_algorithms import VarQITE, TimeEvolutionProblem\n",
    "from qiskit_algorithms.gradients import LinCombEstimatorGradient, LinCombQGT\n",
    "import qiskit_algorithms.time_evolvers.variational.variational_principles.imaginary_mc_lachlan_principle as mc_lachlan\n",
    "import qiskit.primitives.utils as utils\n",
    "\n",
    "from qiskit.primitives import Estimator\n",
    "from qiskit.primitives import BackendEstimator\n",
    "from qiskit.circuit.library import EfficientSU2\n",
    "from qiskit.quantum_info import SparsePauliOp\n",
    "from qiskit.quantum_info import Statevector\n"
   ]
  },
  {
   "cell_type": "code",
   "execution_count": 18,
   "metadata": {},
   "outputs": [
    {
     "name": "stdout",
     "output_type": "stream",
     "text": [
      "SparsePauliOp(['II', 'IZ', 'ZI', 'ZZ', 'XY', 'YX', 'XX'],\n",
      "              coeffs=[-1.09284335-0.j        ,  0.42027207-0.j        , -0.42027207-0.j        ,\n",
      " -0.01086588-0.j        ,  0.        -0.06359682j,  0.        +0.06359682j,\n",
      "  0.1576953 -0.j        ])\n"
     ]
    }
   ],
   "source": [
    "# Hamiltonian reading\n",
    "data = np.loadtxt('qubit_hamil_h2.txt', dtype=str) # H2, 0.7A sto6g\n",
    "paulistrings = data[:,0] \n",
    "coefficients = (data[:,1])\n",
    "#coefficients = [np.real(complex(coeff)) for coeff in coefficients]\n",
    "coefficiencts = [complex(coeff) for coeff in coefficients]\n",
    "paulis = list(zip(paulistrings, coefficients))\n",
    "qubit_op = SparsePauliOp.from_list(paulis)\n",
    "\n",
    "qubit_op = qubit_op.adjoint()\n",
    "#print(f\"Number of qubits: {qubit_op.num_qubits}\")\n",
    "print(qubit_op)\n",
    "#qubit_mat = qubit_op.to_matrix()\n",
    "#print(qubit_mat - qubit_mat.conj().T) # Is non-Hermitian!"
   ]
  },
  {
   "cell_type": "code",
   "execution_count": 19,
   "metadata": {},
   "outputs": [
    {
     "name": "stdout",
     "output_type": "stream",
     "text": [
      "SparsePauliOp(['II', 'IZ', 'ZI', 'ZZ', 'XX'],\n",
      "              coeffs=[-1.05178903+0.j,  0.4209349 +0.j, -0.4209349 +0.j, -0.01159108+0.j,\n",
      "  0.17928567+0.j])\n"
     ]
    }
   ],
   "source": [
    "# Equivalent problem to Hamiltonian\n",
    "driver = PySCFDriver(\n",
    "    atom = \"H 0 0 0; H 0 0 0.7\",\n",
    "    unit=DistanceUnit.ANGSTROM,\n",
    "    charge=0,\n",
    "    spin=0,\n",
    "    basis='sto6g'\n",
    ")\n",
    "problem = driver.run()\n",
    "h = problem.hamiltonian.second_q_op()\n",
    "\n",
    "# Mapper\n",
    "mapper = ParityMapper(num_particles = problem.num_particles)\n",
    "qubit_op2 = mapper.map(h)\n",
    "print(qubit_op2)\n",
    "#qubit_mat = qubit_op2.to_matrix()\n",
    "#print(qubit_mat - qubit_mat.conj().T) # Is Hermitian!"
   ]
  },
  {
   "cell_type": "code",
   "execution_count": 30,
   "metadata": {},
   "outputs": [],
   "source": [
    "# Settings for all estimators\n",
    "numshots = 10000\n",
    "seed = 170\n",
    "\n",
    "# Simple noise model with depolarizing error\n",
    "prob_1 = 0.0001 # 1-qubit gate\n",
    "prob_2 = 0.001   # 2-qubit gate\n",
    "error_1 = noise.depolarizing_error(prob_1, 1)\n",
    "error_2 = noise.depolarizing_error(prob_2, 2)\n",
    "\n",
    "# Add errors to noise model\n",
    "noise_model = noise.NoiseModel()\n",
    "noise_model.add_all_qubit_quantum_error(error_1, ['u1', 'u2', 'u3'])\n",
    "noise_model.add_all_qubit_quantum_error(error_2, ['cx'])\n",
    "\n",
    "# Get basis gates from noise model\n",
    "basis_gates = noise_model.basis_gates\n",
    "\n",
    "# Estimators\n",
    "estimator = Estimator(options={'seed': seed})\n",
    "shot_estimator = Estimator(options={'seed': seed, 'shots': numshots})\n",
    "noisy_estimator = AerEstimator(\n",
    "    backend_options={\n",
    "        \"method\": \"density_matrix\",\n",
    "        \"noise_model\": noise_model,                     # Disabling noise_model but having shotnoise means it runs only ONCE. VERY WEIRD!\n",
    "    },\n",
    "    run_options={\"seed\": seed, \"shots\": numshots},       \n",
    "    transpile_options={\"seed_transpiler\": seed},       \n",
    "    approximation=True                                 \n",
    ")\n",
    "\n",
    "#noisy_estimator = BackendEstimator(options={'seed': seed, 'shots': numshots}, backend=FakeAthens())\n"
   ]
  },
  {
   "cell_type": "code",
   "execution_count": 21,
   "metadata": {},
   "outputs": [
    {
     "data": {
      "image/png": "[encoded data removed]",
      "text/plain": [
       "<Figure size 287.294x200.667 with 1 Axes>"
      ]
     },
     "execution_count": 21,
     "metadata": {},
     "output_type": "execute_result"
    }
   ],
   "source": [
    "# Ansatz\n",
    "#ansatz = UCCSD(num_spatial_orbitals = problem.num_spatial_orbitals, num_particles = problem.num_particles, qubit_mapper=mapper)\n",
    "#init_param_values = [0,3*np.pi/2,-np.pi/2] # surely there should be some systematic way of doing this...\n",
    "#ansatz.decompose().decompose().decompose().draw(\"mpl\")\n",
    "\n",
    "\n",
    "ansatz = EfficientSU2(num_qubits = qubit_op2.num_qubits, reps=1, su2_gates=[\"ry\"], skip_final_rotation_layer=True)\n",
    "init_param_values = [np.pi,np.pi]\n",
    "ansatz.decompose().draw(\"mpl\")\n"
   ]
  },
  {
   "cell_type": "code",
   "execution_count": 22,
   "metadata": {},
   "outputs": [
    {
     "name": "stdout",
     "output_type": "stream",
     "text": [
      "2\n"
     ]
    },
    {
     "data": {
      "text/latex": [
       "$$ |01\\rangle$$"
      ],
      "text/plain": [
       "<IPython.core.display.Latex object>"
      ]
     },
     "execution_count": 22,
     "metadata": {},
     "output_type": "execute_result"
    }
   ],
   "source": [
    "# Testing the initial state\n",
    "print(ansatz.num_parameters)\n",
    "state = Statevector.from_int(0, 2**qubit_op.num_qubits)\n",
    "test_circ = ansatz.assign_parameters(init_param_values)\n",
    "state = state.evolve(test_circ)\n",
    "state.draw('latex')"
   ]
  },
  {
   "cell_type": "code",
   "execution_count": 23,
   "metadata": {},
   "outputs": [
    {
     "name": "stdout",
     "output_type": "stream",
     "text": [
      "[-1.9225216]\n",
      "[-1.92346795]\n",
      "[-1.92423126]\n",
      "[-1.92484954]\n",
      "[-1.9253522]\n",
      "[-1.92576219]\n",
      "[-1.92609755]\n",
      "[-1.92637252]\n",
      "[-1.92659846]\n",
      "[-1.92678443]\n",
      "[-1.92693773]\n",
      "[-1.92706427]\n",
      "[-1.92716883]\n",
      "[-1.92725531]\n",
      "[-1.92732688]\n",
      "[-1.92738616]\n",
      "[-1.92743528]\n",
      "[-1.927476]\n",
      "[-1.92750977]\n",
      "[-1.92753778]\n",
      "[-1.92756103]\n",
      "[-1.92758032]\n",
      "[-1.92759634]\n",
      "[-1.92760964]\n",
      "[-1.92762068]\n",
      "[-1.92762985]\n",
      "[-1.92763747]\n",
      "[-1.92764379]\n",
      "[-1.92764904]\n",
      "[-1.92765341]\n",
      "[-1.92765703]\n",
      "[-1.92766005]\n",
      "[-1.92766255]\n",
      "[-1.92766463]\n",
      "[-1.92766635]\n",
      "[-1.92766779]\n",
      "[-1.92766898]\n",
      "[-1.92766997]\n",
      "[-1.92767079]\n",
      "[-1.92767147]\n",
      "[-1.92767204]\n",
      "[-1.92767251]\n",
      "[-1.92767291]\n",
      "[-1.92767323]\n",
      "[-1.9276735]\n",
      "[-1.92767373]\n",
      "[-1.92767391]\n",
      "[-1.92767407]\n",
      "[-1.9276742]\n",
      "[-1.92767431]\n",
      "[-1.92767439]\n",
      "[-1.92767447]\n"
     ]
    }
   ],
   "source": [
    "###############\n",
    "### VarQITE ###\n",
    "###############\n",
    "# This is the TC Hamiltonian with the modified code.\n",
    "\n",
    "# The 2 main tunable parameters\n",
    "total_time=5\n",
    "num_timesteps = 50\n",
    "\n",
    "var_principle = mc_lachlan.ImaginaryMcLachlanPrinciple(qgt=LinCombQGT(estimator), \n",
    "                                                       gradient=LinCombEstimatorGradient(estimator), \n",
    "                                                       is_non_hermitian=True)\n",
    "time_evo = TimeEvolutionProblem(qubit_op, \n",
    "                                time=total_time, \n",
    "                                aux_operators=[qubit_op])\n",
    "qite = VarQITE(ansatz, init_param_values, \n",
    "               variational_principle = var_principle,\n",
    "               estimator=estimator, \n",
    "               num_timesteps=num_timesteps)\n",
    "result = qite.evolve(time_evo)"
   ]
  },
  {
   "cell_type": "code",
   "execution_count": 24,
   "metadata": {},
   "outputs": [
    {
     "name": "stdout",
     "output_type": "stream",
     "text": [
      "[-1.92285957]\n",
      "[-1.92392816]\n",
      "[-1.9247653]\n",
      "[-1.92542152]\n",
      "[-1.92593563]\n",
      "[-1.92633761]\n",
      "[-1.92665075]\n",
      "[-1.92689324]\n",
      "[-1.92707934]\n",
      "[-1.92722017]\n",
      "[-1.92732426]\n",
      "[-1.92739755]\n",
      "[-1.92743977]\n",
      "[-1.92747081]\n",
      "[-1.92750839]\n",
      "[-1.92753415]\n",
      "[-1.9275506]\n",
      "[-1.92755974]\n",
      "[-1.92756322]\n",
      "[-1.92756233]\n",
      "[-1.92755813]\n",
      "[-1.92755148]\n",
      "[-1.92754304]\n",
      "[-1.92753337]\n",
      "[-1.92752288]\n",
      "[-1.92751192]\n",
      "[-1.92750075]\n",
      "[-1.92748957]\n",
      "[-1.92747854]\n",
      "[-1.92746777]\n",
      "[-1.92745736]\n",
      "[-1.92744735]\n",
      "[-1.9274378]\n",
      "[-1.92742873]\n",
      "[-1.92742014]\n",
      "[-1.92741204]\n",
      "[-1.92740443]\n",
      "[-1.92739729]\n",
      "[-1.92739062]\n",
      "[-1.92738439]\n",
      "[-1.92737858]\n",
      "[-1.92737318]\n",
      "[-1.92736816]\n",
      "[-1.9273635]\n",
      "[-1.92735919]\n",
      "[-1.92735519]\n",
      "[-1.92735149]\n",
      "[-1.92734807]\n",
      "[-1.92734491]\n",
      "[-1.92734199]\n",
      "[-1.92733929]\n",
      "[-1.92733681]\n"
     ]
    }
   ],
   "source": [
    "###############\n",
    "### VarQITE ###\n",
    "###############\n",
    "# This is the TC Hamiltonian with the modified code, with shot noise.\n",
    "\n",
    "# The 2 main tunable parameters\n",
    "total_time=5\n",
    "num_timesteps = 50\n",
    "\n",
    "var_principle = mc_lachlan.ImaginaryMcLachlanPrinciple(qgt=LinCombQGT(shot_estimator), \n",
    "                                                       gradient=LinCombEstimatorGradient(shot_estimator), \n",
    "                                                       is_non_hermitian=True)\n",
    "time_evo = TimeEvolutionProblem(qubit_op, \n",
    "                                time=total_time, \n",
    "                                aux_operators=[qubit_op])\n",
    "qite = VarQITE(ansatz, init_param_values, \n",
    "               variational_principle = var_principle,\n",
    "               estimator=shot_estimator, \n",
    "               num_timesteps=num_timesteps)\n",
    "result_shotnoise = qite.evolve(time_evo)"
   ]
  },
  {
   "cell_type": "code",
   "execution_count": 33,
   "metadata": {},
   "outputs": [
    {
     "name": "stdout",
     "output_type": "stream",
     "text": [
      "[-1.92299123]\n"
     ]
    }
   ],
   "source": [
    "###############\n",
    "### VarQITE ###\n",
    "###############\n",
    "# This is the TC Hamiltonian with the modified code, with noise model.\n",
    "\n",
    "# The 2 main tunable parameters\n",
    "total_time=5\n",
    "num_timesteps = 50\n",
    "\n",
    "var_principle = mc_lachlan.ImaginaryMcLachlanPrinciple(qgt=LinCombQGT(noisy_estimator), \n",
    "                                                       gradient=LinCombEstimatorGradient(noisy_estimator), \n",
    "                                                       is_non_hermitian=True)\n",
    "time_evo = TimeEvolutionProblem(qubit_op, \n",
    "                                time=total_time, \n",
    "                                aux_operators=[qubit_op])\n",
    "qite = VarQITE(ansatz, init_param_values, \n",
    "               variational_principle = var_principle,\n",
    "               estimator=noisy_estimator, \n",
    "               num_timesteps=num_timesteps)\n",
    "result_noise = qite.evolve(time_evo)"
   ]
  },
  {
   "cell_type": "code",
   "execution_count": 26,
   "metadata": {},
   "outputs": [
    {
     "name": "stdout",
     "output_type": "stream",
     "text": [
      "[-1.88206775]\n",
      "[-1.88795389]\n",
      "[-1.89201648]\n",
      "[-1.8948143]\n",
      "[-1.89673817]\n",
      "[-1.89805969]\n",
      "[-1.8989668]\n",
      "[-1.89958915]\n",
      "[-1.90001599]\n",
      "[-1.90030866]\n",
      "[-1.90050931]\n",
      "[-1.90064686]\n",
      "[-1.90074114]\n",
      "[-1.90080576]\n",
      "[-1.90085005]\n",
      "[-1.90088041]\n",
      "[-1.90090121]\n",
      "[-1.90091547]\n",
      "[-1.90092524]\n",
      "[-1.90093194]\n",
      "[-1.90093653]\n",
      "[-1.90093967]\n",
      "[-1.90094183]\n",
      "[-1.90094331]\n",
      "[-1.90094432]\n",
      "[-1.90094501]\n",
      "[-1.90094549]\n",
      "[-1.90094581]\n",
      "[-1.90094604]\n",
      "[-1.90094619]\n",
      "[-1.9009463]\n",
      "[-1.90094637]\n",
      "[-1.90094642]\n",
      "[-1.90094645]\n",
      "[-1.90094647]\n",
      "[-1.90094649]\n",
      "[-1.9009465]\n",
      "[-1.90094651]\n",
      "[-1.90094651]\n",
      "[-1.90094652]\n",
      "[-1.90094652]\n",
      "[-1.90094652]\n",
      "[-1.90094652]\n",
      "[-1.90094652]\n",
      "[-1.90094652]\n",
      "[-1.90094652]\n",
      "[-1.90094652]\n",
      "[-1.90094652]\n",
      "[-1.90094652]\n",
      "[-1.90094652]\n",
      "[-1.90094652]\n",
      "[-1.90094652]\n"
     ]
    }
   ],
   "source": [
    "###############\n",
    "### VarQITE ###\n",
    "###############\n",
    "# This is the non-TC Hamiltonian.\n",
    "\n",
    "# The 2 main tunable parameters\n",
    "total_time=5\n",
    "num_timesteps = 50\n",
    "\n",
    "var_principle = mc_lachlan.ImaginaryMcLachlanPrinciple(qgt=LinCombQGT(estimator), gradient=LinCombEstimatorGradient(estimator))\n",
    "time_evo = TimeEvolutionProblem(qubit_op2, \n",
    "                                time=total_time, \n",
    "                                aux_operators=[qubit_op2])\n",
    "qite = VarQITE(ansatz, init_param_values, \n",
    "               variational_principle = var_principle,\n",
    "               estimator=estimator, \n",
    "               num_timesteps=num_timesteps)\n",
    "result2 = qite.evolve(time_evo)"
   ]
  },
  {
   "cell_type": "code",
   "execution_count": 27,
   "metadata": {},
   "outputs": [],
   "source": [
    "data = np.loadtxt(\"energy_trace_h2.dat\")\n",
    "avqite_times = data[:,0]\n",
    "avqite_energies = data[:,2]\n",
    "initial_time=data[0,0]\n",
    "initial_energy=data[0,2]\n",
    "#print(f\"Initial time: {initial_time}, Initial energy: {initial_energy}\")"
   ]
  },
  {
   "cell_type": "code",
   "execution_count": 28,
   "metadata": {},
   "outputs": [
    {
     "name": "stdout",
     "output_type": "stream",
     "text": [
      "E0_noisy: -1.9220479209255994, E0_noTC: -1.8820677470371825, E0_TC: -1.9225216042673814\n"
     ]
    },
    {
     "data": {
      "text/plain": [
       "<matplotlib.legend.Legend at 0x304c0bf20>"
      ]
     },
     "execution_count": 28,
     "metadata": {},
     "output_type": "execute_result"
    },
    {
     "data": {
      "image/png": "[encoded data removed]",
      "text/plain": [
       "<Figure size 500x700 with 2 Axes>"
      ]
     },
     "metadata": {},
     "output_type": "display_data"
    }
   ],
   "source": [
    "sns.set_context(\"paper\")\n",
    "fig, axs = plt.subplots(2,1,sharex=True)\n",
    "fig.set_figheight(7)\n",
    "fig.set_figwidth(5)\n",
    "ax = axs[0]\n",
    "ax2 = axs[1]\n",
    "#DELTA_BIG = 50\n",
    "DELTA_BIG = 2\n",
    "sys = \"h2\"\n",
    "e_exact = {\"h2\": -1.9276748321, \"h4\": -4.3860854160}\n",
    "e_exact_notc = {\"h2\": -1.9009465237, \"h4\": None} \n",
    "\n",
    "h_exp_val = np.array([ele[0][0].real for ele in result.observables])\n",
    "times = result.times\n",
    "h_exp_val2 = np.array([ele[0][0].real for ele in result2.observables])\n",
    "times2 = result2.times\n",
    "h_exp_val_shotnoise = np.array([ele[0][0].real for ele in result_shotnoise.observables])\n",
    "times_shotnoise = result_shotnoise.times\n",
    "h_exp_val_noise = np.array([ele[0][0].real for ele in result_noise.observables])\n",
    "times_noise = result_noise.times\n",
    "\n",
    "print(f\"E0_noisy: {h_exp_val_noise[0]}, E0_noTC: {h_exp_val2[0]}, E0_TC: {h_exp_val[0]}\")\n",
    "\n",
    "ax.plot(times2, h_exp_val2, '-ro', label= \"No TC\", alpha=0.75) #+ extracted_transformer_energy+ nuclear_repulsion_energy\n",
    "ax.plot(times, h_exp_val, '-gs', label= \"Statevec\", alpha=0.75) #+ extracted_transformer_energy+ nuclear_repulsion_energy\n",
    "ax.plot(times_shotnoise, h_exp_val_shotnoise, '-c^', label= \"Shot noise\", alpha=0.75) #+ extracted_transformer_energy+ nuclear_repulsion_energy\n",
    "ax.plot(times_noise, h_exp_val_noise, '-m*', label= \"Noise model\", alpha=0.75) #+ extracted_transformer_energy+ nuclear_repulsion_energy\n",
    "ax.plot(avqite_times[::DELTA_BIG], avqite_energies[::DELTA_BIG], '-bd', label= \"Own\", alpha=0.75)\n",
    "ax.plot([e_exact[sys]]*(int(times[-1])+15), '--k', label= \"ED\")\n",
    "ax.plot([e_exact_notc[sys]]*(int(times[-1])+15), '--k')\n",
    "ax.set_ylabel(r\"$\\langle H_e \\rangle$ (Ha)\")\n",
    "#ax.legend()\n",
    "ax.set_xlim([0, times[-1]])\n",
    "\n",
    "#print(f\"Final Qiskit electronic energy: {h_exp_val[-1]} Ha\")\n",
    "#print(f\"Compare with Qutip ED: -4.3860854160 Ha\")\n",
    "#print(f\"Compare with TC-VarQITE for UCCSD: -4.3860791082 Ha\")\n",
    "\n",
    "\n",
    "ax2.plot(times, abs(h_exp_val-e_exact[sys]), \"-gs\", label= \"Statevec\")\n",
    "ax2.plot(times_shotnoise, abs(h_exp_val_shotnoise-e_exact[sys]), \"-c^\", label= \"Shot noise\")\n",
    "ax2.plot(times_noise, abs(h_exp_val_noise-e_exact[sys]), \"-m*\", label= \"Noise model\")\n",
    "ax2.plot(avqite_times[::DELTA_BIG], abs(avqite_energies-e_exact[sys])[::DELTA_BIG], \"-bd\", label= \"Own\", alpha=0.75)\n",
    "ax2.fill_between([0,times[-1]],[1e-3,1e-3],color=\"grey\",alpha=0.3,label=\"Comp. acc.\")\n",
    "ax2.set_xlabel(\"Imaginary seconds\")\n",
    "ax2.set_ylabel(r\"$\\left|\\langle H_e \\rangle - E_{ED}^{TC}\\right|$ (Ha)\")\n",
    "ax2.set_yscale(\"log\")\n",
    "ax2.set_xlim([0, times[-1]])\n",
    "\n",
    "h, l = ax.get_legend_handles_labels()\n",
    "h2, l2 = ax2.get_legend_handles_labels()\n",
    "for index, label in enumerate(l2):\n",
    "    if label not in l:\n",
    "        l.append(label)\n",
    "        h.append(h2[index])\n",
    "ax2.legend(h, l)\n"
   ]
  },
  {
   "cell_type": "code",
   "execution_count": 29,
   "metadata": {},
   "outputs": [
    {
     "name": "stdout",
     "output_type": "stream",
     "text": [
      "Number of device qubits:  5\n",
      "[0.9997319328021352, 8.935573262156992e-05, 8.935573262156992e-05, 8.935573262156992e-05]\n",
      "[0.9998006714917493, 6.644283608355092e-05, 6.644283608355092e-05, 6.644283608355092e-05]\n",
      "[1.0]\n",
      "[0.9981472989095763, 0.0005050377875608045, 0.0007174264730936761, 0.00020982196730064405, 1.0616471362787562e-07, 1.5081124213082164e-07, 0.00020982196730064405, 1.0616471362787562e-07, 1.5081124213082164e-07, 0.00020982196730064405, 1.0616471362787562e-07, 1.5081124213082164e-07]\n",
      "[0.999734086025868, 8.863799137734145e-05, 8.863799137734145e-05, 8.863799137734145e-05]\n",
      "[0.9997319328021352, 8.935573262156992e-05, 8.935573262156992e-05, 8.935573262156992e-05]\n",
      "[0.9998006714917493, 6.644283608355092e-05, 6.644283608355092e-05, 6.644283608355092e-05]\n",
      "[1.0]\n",
      "[0.9981472989095763, 0.0005050377875608045, 0.0007174264730936761, 0.00020982196730064405, 1.0616471362787562e-07, 1.5081124213082164e-07, 0.00020982196730064405, 1.0616471362787562e-07, 1.5081124213082164e-07, 0.00020982196730064405, 1.0616471362787562e-07, 1.5081124213082164e-07]\n",
      "[0.999734086025868, 8.863799137734145e-05, 8.863799137734145e-05, 8.863799137734145e-05]\n",
      "[0.9997319328021352, 8.935573262156992e-05, 8.935573262156992e-05, 8.935573262156992e-05]\n",
      "[0.9998006714917493, 6.644283608355092e-05, 6.644283608355092e-05, 6.644283608355092e-05]\n",
      "[1.0]\n",
      "[0.9981472989095763, 0.0005050377875608045, 0.0007174264730936761, 0.00020982196730064405, 1.0616471362787562e-07, 1.5081124213082164e-07, 0.00020982196730064405, 1.0616471362787562e-07, 1.5081124213082164e-07, 0.00020982196730064405, 1.0616471362787562e-07, 1.5081124213082164e-07]\n",
      "[0.999734086025868, 8.863799137734145e-05, 8.863799137734145e-05, 8.863799137734145e-05]\n",
      "Quantum error for gate cx: {(0, 1): <QuantumError[7af95ae851f04207aac6f856a9cb3c15], num_qubits=2, size=16, probabilities=[0.9925296979224104, 0.000498020138505931, 0.000498020138505931, 0.000498020138505931, 0.000498020138505931, 0.000498020138505931, 0.000498020138505931, 0.000498020138505931, 0.000498020138505931, 0.000498020138505931, 0.000498020138505931, 0.000498020138505931, 0.000498020138505931, 0.000498020138505931, 0.000498020138505931, 0.000498020138505931]>, (1, 0): <QuantumError[d9e344d349b540628af02179e955db1c], num_qubits=2, size=16, probabilities=[0.9919746753497907, 0.0005350216433473086, 0.0005350216433473086, 0.0005350216433473086, 0.0005350216433473086, 0.0005350216433473086, 0.0005350216433473086, 0.0005350216433473086, 0.0005350216433473086, 0.0005350216433473086, 0.0005350216433473086, 0.0005350216433473086, 0.0005350216433473086, 0.0005350216433473086, 0.0005350216433473086, 0.0005350216433473086]>, (1, 2): <QuantumError[c29692f328ae4caf8b776eced01a90b6], num_qubits=2, size=16, probabilities=[0.9963019945057413, 0.0002465336996172509, 0.0002465336996172509, 0.0002465336996172509, 0.0002465336996172509, 0.0002465336996172509, 0.0002465336996172509, 0.0002465336996172509, 0.0002465336996172509, 0.0002465336996172509, 0.0002465336996172509, 0.0002465336996172509, 0.0002465336996172509, 0.0002465336996172509, 0.0002465336996172509, 0.0002465336996172509]>, (2, 1): <QuantumError[08d0d06c49a74f92ad54fe49febd9c62], num_qubits=2, size=16, probabilities=[0.9971270950326985, 0.00019152699782012622, 0.00019152699782012622, 0.00019152699782012622, 0.00019152699782012622, 0.00019152699782012622, 0.00019152699782012622, 0.00019152699782012622, 0.00019152699782012622, 0.00019152699782012622, 0.00019152699782012622, 0.00019152699782012622, 0.00019152699782012622, 0.00019152699782012622, 0.00019152699782012622, 0.00019152699782012622]>, (2, 3): <QuantumError[0b0f70f0d08b4666a2881fdd9045a10d], num_qubits=2, size=48, probabilities=[0.9712049202180563, 0.003931223759966499, 0.005618372044382087, 0.0012705393942903445, 5.14286382907349e-06, 7.350007053675457e-06, 0.0012705393942903445, 5.14286382907349e-06, 7.350007053675457e-06, 0.0012705393942903445, 5.14286382907349e-06, 7.350007053675457e-06, 0.0012705393942903445, 5.14286382907349e-06, 7.350007053675457e-06, 0.0012705393942903445, 5.14286382907349e-06, 7.350007053675457e-06, 0.0012705393942903445, 5.14286382907349e-06, 7.350007053675457e-06, 0.0012705393942903445, 5.14286382907349e-06, 7.350007053675457e-06, 0.0012705393942903445, 5.14286382907349e-06, 7.350007053675457e-06, 0.0012705393942903445, 5.14286382907349e-06, 7.350007053675457e-06, 0.0012705393942903445, 5.14286382907349e-06, 7.350007053675457e-06, 0.0012705393942903445, 5.14286382907349e-06, 7.350007053675457e-06, 0.0012705393942903445, 5.14286382907349e-06, 7.350007053675457e-06, 0.0012705393942903445, 5.14286382907349e-06, 7.350007053675457e-06, 0.0012705393942903445, 5.14286382907349e-06, 7.350007053675457e-06, 0.0012705393942903445, 5.14286382907349e-06, 7.350007053675457e-06]>, (3, 2): <QuantumError[868539f0086e46c4b319d40bdd15dd0a], num_qubits=2, size=48, probabilities=[0.9715775400530099, 0.004424317129994477, 0.006328554244011275, 0.0011650781447726858, 5.3054696935653084e-06, 7.588957065952424e-06, 0.0011650781447726858, 5.3054696935653084e-06, 7.588957065952424e-06, 0.0011650781447726858, 5.3054696935653084e-06, 7.588957065952424e-06, 0.0011650781447726858, 5.3054696935653084e-06, 7.588957065952424e-06, 0.0011650781447726858, 5.3054696935653084e-06, 7.588957065952424e-06, 0.0011650781447726858, 5.3054696935653084e-06, 7.588957065952424e-06, 0.0011650781447726858, 5.3054696935653084e-06, 7.588957065952424e-06, 0.0011650781447726858, 5.3054696935653084e-06, 7.588957065952424e-06, 0.0011650781447726858, 5.3054696935653084e-06, 7.588957065952424e-06, 0.0011650781447726858, 5.3054696935653084e-06, 7.588957065952424e-06, 0.0011650781447726858, 5.3054696935653084e-06, 7.588957065952424e-06, 0.0011650781447726858, 5.3054696935653084e-06, 7.588957065952424e-06, 0.0011650781447726858, 5.3054696935653084e-06, 7.588957065952424e-06, 0.0011650781447726858, 5.3054696935653084e-06, 7.588957065952424e-06, 0.0011650781447726858, 5.3054696935653084e-06, 7.588957065952424e-06]>, (3, 4): <QuantumError[1a1f3f904d2c466389e8197bf6746c34], num_qubits=2, size=48, probabilities=[0.9774345104265543, 0.005835711191459309, 0.008367648469520551, 0.0005494905350473656, 3.280698635837483e-06, 4.70409381452939e-06, 0.0005494905350473656, 3.280698635837483e-06, 4.70409381452939e-06, 0.0005494905350473656, 3.280698635837483e-06, 4.70409381452939e-06, 0.0005494905350473656, 3.280698635837483e-06, 4.70409381452939e-06, 0.0005494905350473656, 3.280698635837483e-06, 4.70409381452939e-06, 0.0005494905350473656, 3.280698635837483e-06, 4.70409381452939e-06, 0.0005494905350473656, 3.280698635837483e-06, 4.70409381452939e-06, 0.0005494905350473656, 3.280698635837483e-06, 4.70409381452939e-06, 0.0005494905350473656, 3.280698635837483e-06, 4.70409381452939e-06, 0.0005494905350473656, 3.280698635837483e-06, 4.70409381452939e-06, 0.0005494905350473656, 3.280698635837483e-06, 4.70409381452939e-06, 0.0005494905350473656, 3.280698635837483e-06, 4.70409381452939e-06, 0.0005494905350473656, 3.280698635837483e-06, 4.70409381452939e-06, 0.0005494905350473656, 3.280698635837483e-06, 4.70409381452939e-06, 0.0005494905350473656, 3.280698635837483e-06, 4.70409381452939e-06]>, (4, 3): <QuantumError[a35e8370f83d457e932cf4853216698c], num_qubits=2, size=48, probabilities=[0.9774319042787982, 0.00534115545523226, 0.007651901641472994, 0.0006299617908987724, 3.44241255203301e-06, 4.9317048489432495e-06, 0.0006299617908987724, 3.44241255203301e-06, 4.9317048489432495e-06, 0.0006299617908987724, 3.44241255203301e-06, 4.9317048489432495e-06, 0.0006299617908987724, 3.44241255203301e-06, 4.9317048489432495e-06, 0.0006299617908987724, 3.44241255203301e-06, 4.9317048489432495e-06, 0.0006299617908987724, 3.44241255203301e-06, 4.9317048489432495e-06, 0.0006299617908987724, 3.44241255203301e-06, 4.9317048489432495e-06, 0.0006299617908987724, 3.44241255203301e-06, 4.9317048489432495e-06, 0.0006299617908987724, 3.44241255203301e-06, 4.9317048489432495e-06, 0.0006299617908987724, 3.44241255203301e-06, 4.9317048489432495e-06, 0.0006299617908987724, 3.44241255203301e-06, 4.9317048489432495e-06, 0.0006299617908987724, 3.44241255203301e-06, 4.9317048489432495e-06, 0.0006299617908987724, 3.44241255203301e-06, 4.9317048489432495e-06, 0.0006299617908987724, 3.44241255203301e-06, 4.9317048489432495e-06, 0.0006299617908987724, 3.44241255203301e-06, 4.9317048489432495e-06]>}\n",
      "[1.0]\n",
      "[1.0]\n",
      "[1.0]\n",
      "[0.8896427884094065, 0.04340375646081247, 0.06695345512978101]\n",
      "[1.0]\n"
     ]
    }
   ],
   "source": [
    "# Scaled down \"realistic\" noise model:\n",
    "\n",
    "device = FakeAthensV2()\n",
    "coupling_map = device.coupling_map\n",
    "print('Number of device qubits: ', device.num_qubits)\n",
    "\n",
    "# Noise model\n",
    "noise_model = noise.NoiseModel.from_backend(device)\n",
    "\n",
    "# Alpha: how much to multiply readout fidelity.\n",
    "alpha = 1\n",
    "#alpha = 10\n",
    "\n",
    "# Beta: how much to multiply 1-qubit gate fidelity.\n",
    "beta = 1\n",
    "#beta = 10\n",
    "\n",
    "# Gamma: how much to multiply 2-qubit gate fidelity.\n",
    "gamma = 1\n",
    "#gamma = 10\n",
    "\n",
    "# Noise model\n",
    "noise_model = noise.NoiseModel.from_backend(device)\n",
    "\n",
    "# Modify noise models, local quantum errors and readout errors.\n",
    "\n",
    "# Local quantum errors\n",
    "for gate in noise_model._local_quantum_errors:\n",
    "    # Assumes that #possible 2 qubit gates > #qubits. NOT A SAFE ASSUMPTION FOR SMALL DEVICES.\n",
    "    if len(noise_model._local_quantum_errors[gate].keys()) > device.num_qubits:\n",
    "        # 2 qubit gates\n",
    "        print(f\"Quantum error for gate {gate}: {noise_model._local_quantum_errors[gate]}\")\n",
    "    else:\n",
    "        # 1 qubit gates\n",
    "        #print(f\"Quantum error for gate {gate}: {noise_model._local_quantum_errors[gate]}\")\n",
    "        for qubit in noise_model._local_quantum_errors[gate]:\n",
    "            #print((noise_model._local_quantum_errors[gate][qubit]))\n",
    "            print((noise_model._local_quantum_errors[gate][qubit]).probabilities)\n",
    "            #prob_mat = (noise_model._local_quantum_errors[gate][qubit]).probabilities\n",
    "            #new_prob_mat = np.array([[beta, 1/beta],[1/beta, beta]]) * prob_mat\n",
    "            #new_prob_mat = new_prob_mat / np.linalg.norm(new_prob_mat, ord=1)\n",
    "            #noise_model._local_quantum_errors[gate][qubit] = new_prob_mat\n",
    "            #print(f\"Quantum error for gate {gate} on qubit {qubit}: {noise_model._local_quantum_errors[gate][qubit]}\")\n",
    "        #print(noise_model._local_quantum_errors[gate])\n",
    "\n",
    "# Readout errors\n",
    "for qubit in noise_model._local_readout_errors:\n",
    "    prob_mat = (noise_model._local_readout_errors[qubit]).probabilities\n",
    "    #prob_mat = [[0.9, 0.1], [0.1, 0.9]]\n",
    "    new_prob_mat = np.array([[alpha, 1/alpha],[1/alpha, alpha]]) * prob_mat\n",
    "    new_prob_mat = new_prob_mat / np.linalg.norm(new_prob_mat, ord=1)\n",
    "    noise_model._local_readout_errors[qubit] = new_prob_mat\n",
    "    #print(f\"Readout error for qubit {qubit}: {noise_model._local_readout_errors[qubit]}\")\n",
    "\n",
    "\n",
    "# Noisy estimator\n",
    "noisy_estimator = AerEstimator(\n",
    "    backend_options={\n",
    "        \"method\": \"density_matrix\",\n",
    "        \"coupling_map\": coupling_map,\n",
    "        \"noise_model\": noise_model,\n",
    "    },\n",
    "    run_options={\"seed\": seed, \"shots\": numshots},\n",
    "    transpile_options={\"seed_transpiler\": seed},\n",
    ")"
   ]
  }
 ],
 "metadata": {
  "kernelspec": {
   "display_name": ".venv",
   "language": "python",
   "name": "python3"
  },
  "language_info": {
   "codemirror_mode": {
    "name": "ipython",
    "version": 3
   },
   "file_extension": ".py",
   "mimetype": "text/x-python",
   "name": "python",
   "nbconvert_exporter": "python",
   "pygments_lexer": "ipython3",
   "version": "3.12.0"
  }
 },
 "nbformat": 4,
 "nbformat_minor": 2
}
