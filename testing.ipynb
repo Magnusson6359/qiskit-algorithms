{
 "cells": [
  {
   "cell_type": "code",
   "execution_count": 138,
   "metadata": {},
   "outputs": [],
   "source": [
    "from qiskit_algorithms import VarQITE, TimeEvolutionProblem\n",
    "from qiskit_algorithms.gradients import LinCombEstimatorGradient, LinCombQGT\n",
    "import qiskit_algorithms.utils as utils\n",
    "import qiskit_algorithms.time_evolvers.variational.variational_principles.imaginary_mc_lachlan_principle as mc_lachlan"
   ]
  },
  {
   "cell_type": "code",
   "execution_count": 139,
   "metadata": {},
   "outputs": [
    {
     "name": "stdout",
     "output_type": "stream",
     "text": [
      "Idiot function\n"
     ]
    }
   ],
   "source": [
    "mc_lachlan.idiot_function() # This is a test function to see if the homemade code is imported correctly"
   ]
  },
  {
   "cell_type": "code",
   "execution_count": 140,
   "metadata": {},
   "outputs": [],
   "source": [
    "# Other imports\n",
    "\n",
    "from qiskit.primitives import Estimator\n",
    "import numpy as np\n",
    "import matplotlib.pyplot as plt\n",
    "from qiskit.circuit.library import EfficientSU2\n",
    "from qiskit_nature.second_q.circuit.library import UCCSD\n",
    "from qiskit_nature.second_q.algorithms.initial_points import HFInitialPoint\n",
    "from qiskit.quantum_info import SparsePauliOp\n",
    "from qiskit_nature.second_q.mappers import ParityMapper"
   ]
  },
  {
   "cell_type": "code",
   "execution_count": 141,
   "metadata": {},
   "outputs": [
    {
     "name": "stdout",
     "output_type": "stream",
     "text": [
      "Number of qubits: 2\n"
     ]
    }
   ],
   "source": [
    "# Hamiltonian\n",
    "data = np.loadtxt('qubit_hamil_h2.txt', dtype=str)\n",
    "paulistrings = data[:,0] \n",
    "coefficients = (data[:,1])\n",
    "coefficients = [complex(coeff) for coeff in coefficients]\n",
    "paulis = list(zip(paulistrings, coefficients))\n",
    "#print(paulis)\n",
    "qubit_op = SparsePauliOp.from_list(paulis)\n",
    "\n",
    "print(f\"Number of qubits: {qubit_op.num_qubits}\")\n",
    "#print(qubit_op)"
   ]
  },
  {
   "cell_type": "code",
   "execution_count": 142,
   "metadata": {},
   "outputs": [],
   "source": [
    "# Ansatz\n",
    "nreps = 1\n",
    "\n",
    "#initial_point = hf_params_h2o_jw(nreps=nreps, perturb=0.00)\n",
    "#print(initial_point)\n",
    "\n",
    "ansatz = EfficientSU2(qubit_op.num_qubits, reps=nreps)\n",
    "\n",
    "init_param_values = {}\n",
    "for i in range(len(ansatz.parameters)):\n",
    "    init_param_values[ansatz.parameters[i]] = np.pi / 2\n",
    "#print(init_param_values)\n",
    "\n",
    "# UCCSD instead\n",
    "#ansatz = UCCSD(num_spatial_orbitals=8, num_particles=[2,2], qubit_mapper=ParityMapper())\n",
    "#hf_initial_point = HFInitialPoint()\n",
    "#hf_initial_point.ansatz = ansatz\n",
    "#init_param_values = hf_initial_point.to_numpy_array()\n",
    "#print(init_param_values)\n",
    "\n",
    "#ansatz.decompose().draw(\"mpl\", style=\"iqx\")"
   ]
  },
  {
   "cell_type": "code",
   "execution_count": 143,
   "metadata": {},
   "outputs": [],
   "source": [
    "# Estimator\n",
    "seed = 170\n",
    "estimator = Estimator(options={'seed': seed})"
   ]
  },
  {
   "cell_type": "code",
   "execution_count": 144,
   "metadata": {},
   "outputs": [],
   "source": [
    "###############\n",
    "### VarQITE ###\n",
    "###############\n",
    "\n",
    "# The 2 main tunable parameters\n",
    "total_time=5\n",
    "num_timesteps = 50\n",
    "\n",
    "var_principle = mc_lachlan.ImaginaryMcLachlanPrinciple(qgt=LinCombQGT(estimator), gradient=LinCombEstimatorGradient(estimator))\n",
    "time_evo = TimeEvolutionProblem(qubit_op, \n",
    "                                time=total_time, \n",
    "                                aux_operators=[qubit_op])\n",
    "qite = VarQITE(ansatz, init_param_values, \n",
    "               variational_principle = var_principle,\n",
    "               estimator=estimator, \n",
    "               num_timesteps=num_timesteps)\n",
    "result = qite.evolve(time_evo)"
   ]
  },
  {
   "cell_type": "code",
   "execution_count": 145,
   "metadata": {},
   "outputs": [],
   "source": [
    "data = np.loadtxt(\"energy_trace_h2.dat\")\n",
    "avqite_times = data[:,0]\n",
    "avqite_energies = data[:,2]\n"
   ]
  },
  {
   "cell_type": "code",
   "execution_count": 146,
   "metadata": {},
   "outputs": [
    {
     "name": "stdout",
     "output_type": "stream",
     "text": [
      "Final Qiskit electronic energy: -1.936413908955673 Ha\n"
     ]
    },
    {
     "data": {
      "image/png": "[encoded data removed]",
      "text/plain": [
       "<Figure size 640x480 with 1 Axes>"
      ]
     },
     "metadata": {},
     "output_type": "display_data"
    }
   ],
   "source": [
    "fig, ax = plt.subplots(1)\n",
    "#DELTA_BIG = 50\n",
    "DELTA_BIG = 2\n",
    "sys = \"h2\"\n",
    "e_exact = {\"h2\": -1.9276748321, \"h4\": -4.3860854160}\n",
    "\n",
    "# Readin from file\n",
    "#with open('h_exp_val.txt', 'r') as f:\n",
    "#    h_exp_val = [float(num) for line in f for num in line.strip('[] \\n').split()]\n",
    "#with open('times.txt', 'r') as g:\n",
    "#    times = [float(num) for line in g for num in line.strip('[] \\n').split()]\n",
    "\n",
    "h_exp_val = np.array([ele[0][0].real for ele in result.observables])\n",
    "times = result.times\n",
    "\n",
    "ax.plot(times, h_exp_val, '-bo', label= \"Qiskit, HEA\") #+ extracted_transformer_energy+ nuclear_repulsion_energy\n",
    "ax.plot(avqite_times[::DELTA_BIG], avqite_energies[::DELTA_BIG], '-ro', label= \"Own, UCCSD\")\n",
    "ax.plot([e_exact[sys]]*(int(times[-1])+1), '--k', label= \"ED\")\n",
    "#ax.axhline(np_result.total_energies, ls='--', \n",
    "#           c='k', alpha=0.7, label='Groundstate')\n",
    "#ax.axhline(np_result.hartree_fock_energy, ls='--', \n",
    "#           c='r', alpha=0.7, label=\"Hartree-Fock\")\n",
    "\n",
    "#pylab.plot(times, exact_h_exp_val , label= \"Exact\",  linestyle='--')\n",
    "ax.set_xlabel(\"Imaginary seconds\")\n",
    "ax.set_ylabel(r\"$\\langle H_e \\rangle$ (Ha)\")\n",
    "ax.legend(loc=\"upper right\");\n",
    "ax.set_xlim([0, times[-1]])\n",
    "print(f\"Final Qiskit electronic energy: {h_exp_val[-1]} Ha\")\n",
    "#print(f\"Compare with Qutip ED: -4.3860854160 Ha\")\n",
    "#print(f\"Compare with TC-VarQITE for UCCSD: -4.3860791082 Ha\")"
   ]
  }
 ],
 "metadata": {
  "kernelspec": {
   "display_name": ".venv",
   "language": "python",
   "name": "python3"
  },
  "language_info": {
   "codemirror_mode": {
    "name": "ipython",
    "version": 3
   },
   "file_extension": ".py",
   "mimetype": "text/x-python",
   "name": "python",
   "nbconvert_exporter": "python",
   "pygments_lexer": "ipython3",
   "version": "3.12.0"
  }
 },
 "nbformat": 4,
 "nbformat_minor": 2
}
