{
 "cells": [
  {
   "cell_type": "code",
   "execution_count": 1,
   "metadata": {},
   "outputs": [],
   "source": [
    "import numpy as np\n",
    "import matplotlib.pyplot as plt\n",
    "\n",
    "from qiskit_nature.second_q.circuit.library import UCCSD, HartreeFock\n",
    "from qiskit_nature.second_q.algorithms.initial_points import HFInitialPoint\n",
    "from qiskit_nature.second_q.mappers import ParityMapper, JordanWignerMapper\n",
    "from qiskit_nature.units import DistanceUnit\n",
    "from qiskit_nature.second_q.drivers import PySCFDriver\n",
    "\n",
    "# Homemade imports\n",
    "from qiskit_algorithms import VarQITE, TimeEvolutionProblem\n",
    "from qiskit_algorithms.gradients import LinCombEstimatorGradient, LinCombQGT\n",
    "import qiskit_algorithms.time_evolvers.variational.variational_principles.imaginary_mc_lachlan_principle as mc_lachlan\n",
    "import qiskit.primitives.utils as utils\n",
    "\n",
    "from qiskit.primitives import Estimator\n",
    "from qiskit.circuit.library import EfficientSU2\n",
    "from qiskit.quantum_info import SparsePauliOp\n",
    "from qiskit.quantum_info import Statevector\n"
   ]
  },
  {
   "cell_type": "code",
   "execution_count": 2,
   "metadata": {},
   "outputs": [
    {
     "name": "stdout",
     "output_type": "stream",
     "text": [
      "Idiot function\n",
      "Idiot function\n"
     ]
    }
   ],
   "source": [
    "mc_lachlan.idiot_function()\n",
    "utils.idiot_function()"
   ]
  },
  {
   "cell_type": "code",
   "execution_count": 3,
   "metadata": {},
   "outputs": [
    {
     "name": "stdout",
     "output_type": "stream",
     "text": [
      "SparsePauliOp(['II', 'IZ', 'ZI', 'ZZ', 'XY', 'YX', 'XX'],\n",
      "              coeffs=[-1.09284335+0.j        ,  0.42027207+0.j        , -0.42027207+0.j        ,\n",
      " -0.01086588+0.j        ,  0.        +0.06359682j,  0.        -0.06359682j,\n",
      "  0.1576953 +0.j        ])\n"
     ]
    }
   ],
   "source": [
    "# Hamiltonian reading\n",
    "data = np.loadtxt('qubit_hamil_h2.txt', dtype=str) # H2, 0.7A sto6g\n",
    "paulistrings = data[:,0] \n",
    "coefficients = (data[:,1])\n",
    "coefficients = [complex(coeff) for coeff in coefficients]\n",
    "paulis = list(zip(paulistrings, coefficients))\n",
    "qubit_op = SparsePauliOp.from_list(paulis)\n",
    "\n",
    "#print(f\"Number of qubits: {qubit_op.num_qubits}\")\n",
    "print(qubit_op)\n",
    "#qubit_mat = qubit_op.to_matrix()\n",
    "#print(qubit_mat - qubit_mat.conj().T) # Is non-Hermitian!"
   ]
  },
  {
   "cell_type": "code",
   "execution_count": 4,
   "metadata": {},
   "outputs": [
    {
     "name": "stdout",
     "output_type": "stream",
     "text": [
      "SparsePauliOp(['II', 'IZ', 'ZI', 'ZZ', 'XX'],\n",
      "              coeffs=[-1.05178903+0.j,  0.4209349 +0.j, -0.4209349 +0.j, -0.01159108+0.j,\n",
      "  0.17928567+0.j])\n"
     ]
    }
   ],
   "source": [
    "# Equivalent problem to Hamiltonian\n",
    "driver = PySCFDriver(\n",
    "    atom = \"H 0 0 0; H 0 0 0.7\",\n",
    "    unit=DistanceUnit.ANGSTROM,\n",
    "    charge=0,\n",
    "    spin=0,\n",
    "    basis='sto6g'\n",
    ")\n",
    "problem = driver.run()\n",
    "h = problem.hamiltonian.second_q_op()\n",
    "\n",
    "# Estimator\n",
    "seed = 170\n",
    "estimator = Estimator(options={'seed': seed})\n",
    "#estimator.options\n",
    "\n",
    "# Mapper\n",
    "mapper = ParityMapper(num_particles = problem.num_particles)\n",
    "qubit_op2 = mapper.map(h)\n",
    "print(qubit_op2)\n",
    "#qubit_mat = qubit_op2.to_matrix()\n",
    "#print(qubit_mat - qubit_mat.conj().T) # Is Hermitian!"
   ]
  },
  {
   "cell_type": "code",
   "execution_count": 5,
   "metadata": {},
   "outputs": [
    {
     "data": {
      "image/png": "[encoded data removed]",
      "text/plain": [
       "<Figure size 538.128x200.667 with 1 Axes>"
      ]
     },
     "execution_count": 5,
     "metadata": {},
     "output_type": "execute_result"
    }
   ],
   "source": [
    "# Ansatz, UCCSD\n",
    "ansatz = UCCSD(num_spatial_orbitals = problem.num_spatial_orbitals, num_particles = problem.num_particles, qubit_mapper=mapper)\n",
    "ansatz.decompose().decompose().draw(\"mpl\")"
   ]
  },
  {
   "cell_type": "code",
   "execution_count": 6,
   "metadata": {},
   "outputs": [
    {
     "name": "stdout",
     "output_type": "stream",
     "text": [
      "     ┌───┐\n",
      "q_0: ┤ X ├\n",
      "     └───┘\n",
      "q_1: ─────\n",
      "          \n"
     ]
    },
    {
     "data": {
      "text/latex": [
       "$$ |01\\rangle$$"
      ],
      "text/plain": [
       "<IPython.core.display.Latex object>"
      ]
     },
     "execution_count": 6,
     "metadata": {},
     "output_type": "execute_result"
    }
   ],
   "source": [
    "# Initial state\n",
    "hf_state = HartreeFock(num_spatial_orbitals = problem.num_spatial_orbitals, num_particles = problem.num_particles, qubit_mapper=mapper)\n",
    "print(hf_state)\n",
    "init_param_values = [0,3*np.pi/2,-np.pi/2] # surely there should be some systematic way of doing this...\n",
    "\n",
    "# Testing the initial state\n",
    "state = Statevector.from_int(0, 2**qubit_op.num_qubits)\n",
    "test_circ = ansatz.assign_parameters(init_param_values)\n",
    "state = state.evolve(test_circ)\n",
    "state.draw('latex')"
   ]
  },
  {
   "cell_type": "code",
   "execution_count": 7,
   "metadata": {},
   "outputs": [
    {
     "name": "stdout",
     "output_type": "stream",
     "text": [
      "QGT:\n",
      "anti_hermitian in make_grad_circ: False\n",
      "H plus:\n",
      "anti_hermitian in make_grad_circ: False\n",
      "H minus:\n",
      "anti_hermitian in make_grad_circ: True\n",
      "QGT:\n",
      "H plus:\n",
      "H minus:\n",
      "QGT:\n",
      "H plus:\n",
      "H minus:\n",
      "QGT:\n",
      "H plus:\n",
      "H minus:\n",
      "QGT:\n",
      "H plus:\n",
      "H minus:\n",
      "QGT:\n",
      "H plus:\n",
      "H minus:\n",
      "QGT:\n",
      "H plus:\n",
      "H minus:\n",
      "QGT:\n",
      "H plus:\n",
      "H minus:\n",
      "QGT:\n",
      "H plus:\n",
      "H minus:\n",
      "QGT:\n",
      "H plus:\n",
      "H minus:\n",
      "QGT:\n",
      "H plus:\n",
      "H minus:\n",
      "QGT:\n",
      "H plus:\n",
      "H minus:\n",
      "QGT:\n",
      "H plus:\n",
      "H minus:\n",
      "QGT:\n",
      "H plus:\n",
      "H minus:\n",
      "QGT:\n",
      "H plus:\n",
      "H minus:\n",
      "QGT:\n",
      "H plus:\n",
      "H minus:\n",
      "QGT:\n",
      "H plus:\n",
      "H minus:\n",
      "QGT:\n",
      "H plus:\n",
      "H minus:\n",
      "QGT:\n",
      "H plus:\n",
      "H minus:\n",
      "QGT:\n",
      "H plus:\n",
      "H minus:\n",
      "QGT:\n",
      "H plus:\n",
      "H minus:\n",
      "QGT:\n",
      "H plus:\n",
      "H minus:\n",
      "QGT:\n",
      "H plus:\n",
      "H minus:\n",
      "QGT:\n",
      "H plus:\n",
      "H minus:\n",
      "QGT:\n",
      "H plus:\n",
      "H minus:\n",
      "QGT:\n",
      "H plus:\n",
      "H minus:\n",
      "QGT:\n",
      "H plus:\n",
      "H minus:\n",
      "QGT:\n",
      "H plus:\n",
      "H minus:\n",
      "QGT:\n",
      "H plus:\n",
      "H minus:\n",
      "QGT:\n",
      "H plus:\n",
      "H minus:\n",
      "QGT:\n",
      "H plus:\n",
      "H minus:\n",
      "QGT:\n",
      "H plus:\n",
      "H minus:\n",
      "QGT:\n",
      "H plus:\n",
      "H minus:\n",
      "QGT:\n",
      "H plus:\n",
      "H minus:\n",
      "QGT:\n",
      "H plus:\n",
      "H minus:\n",
      "QGT:\n",
      "H plus:\n",
      "H minus:\n",
      "QGT:\n",
      "H plus:\n",
      "H minus:\n",
      "QGT:\n",
      "H plus:\n",
      "H minus:\n",
      "QGT:\n",
      "H plus:\n",
      "H minus:\n",
      "QGT:\n",
      "H plus:\n",
      "H minus:\n",
      "QGT:\n",
      "H plus:\n",
      "H minus:\n",
      "QGT:\n",
      "H plus:\n",
      "H minus:\n",
      "QGT:\n",
      "H plus:\n",
      "H minus:\n",
      "QGT:\n",
      "H plus:\n",
      "H minus:\n",
      "QGT:\n",
      "H plus:\n",
      "H minus:\n",
      "QGT:\n",
      "H plus:\n",
      "H minus:\n",
      "QGT:\n",
      "H plus:\n",
      "H minus:\n",
      "QGT:\n",
      "H plus:\n",
      "H minus:\n",
      "QGT:\n",
      "H plus:\n",
      "H minus:\n",
      "QGT:\n",
      "H plus:\n",
      "H minus:\n",
      "QGT:\n",
      "H plus:\n",
      "H minus:\n"
     ]
    }
   ],
   "source": [
    "###############\n",
    "### VarQITE ###\n",
    "###############\n",
    "# This is the TC Hamiltonian.\n",
    "\n",
    "# The 2 main tunable parameters\n",
    "total_time=5\n",
    "num_timesteps = 50\n",
    "\n",
    "var_principle = mc_lachlan.ImaginaryMcLachlanPrinciple(qgt=LinCombQGT(estimator), gradient=LinCombEstimatorGradient(estimator), is_non_hermitian=True)\n",
    "time_evo = TimeEvolutionProblem(qubit_op, \n",
    "                                time=total_time, \n",
    "                                aux_operators=[qubit_op])\n",
    "qite = VarQITE(ansatz, init_param_values, \n",
    "               variational_principle = var_principle,\n",
    "               estimator=estimator, \n",
    "               num_timesteps=num_timesteps)\n",
    "result = qite.evolve(time_evo)"
   ]
  },
  {
   "cell_type": "code",
   "execution_count": 8,
   "metadata": {},
   "outputs": [
    {
     "name": "stdout",
     "output_type": "stream",
     "text": [
      "QGT:\n",
      "anti_hermitian in make_grad_circ: False\n",
      "H:\n",
      "anti_hermitian in make_grad_circ: False\n",
      "QGT:\n",
      "H:\n",
      "QGT:\n",
      "H:\n",
      "QGT:\n",
      "H:\n",
      "QGT:\n",
      "H:\n",
      "QGT:\n",
      "H:\n",
      "QGT:\n",
      "H:\n",
      "QGT:\n",
      "H:\n",
      "QGT:\n",
      "H:\n",
      "QGT:\n",
      "H:\n",
      "QGT:\n",
      "H:\n",
      "QGT:\n",
      "H:\n",
      "QGT:\n",
      "H:\n",
      "QGT:\n",
      "H:\n",
      "QGT:\n",
      "H:\n",
      "QGT:\n",
      "H:\n",
      "QGT:\n",
      "H:\n",
      "QGT:\n",
      "H:\n",
      "QGT:\n",
      "H:\n",
      "QGT:\n",
      "H:\n",
      "QGT:\n",
      "H:\n",
      "QGT:\n",
      "H:\n",
      "QGT:\n",
      "H:\n",
      "QGT:\n",
      "H:\n",
      "QGT:\n",
      "H:\n",
      "QGT:\n",
      "H:\n",
      "QGT:\n",
      "H:\n",
      "QGT:\n",
      "H:\n",
      "QGT:\n",
      "H:\n",
      "QGT:\n",
      "H:\n",
      "QGT:\n",
      "H:\n",
      "QGT:\n",
      "H:\n",
      "QGT:\n",
      "H:\n",
      "QGT:\n",
      "H:\n",
      "QGT:\n",
      "H:\n",
      "QGT:\n",
      "H:\n",
      "QGT:\n",
      "H:\n",
      "QGT:\n",
      "H:\n",
      "QGT:\n",
      "H:\n",
      "QGT:\n",
      "H:\n",
      "QGT:\n",
      "H:\n",
      "QGT:\n",
      "H:\n",
      "QGT:\n",
      "H:\n",
      "QGT:\n",
      "H:\n",
      "QGT:\n",
      "H:\n",
      "QGT:\n",
      "H:\n",
      "QGT:\n",
      "H:\n",
      "QGT:\n",
      "H:\n",
      "QGT:\n",
      "H:\n",
      "QGT:\n",
      "H:\n",
      "QGT:\n",
      "H:\n"
     ]
    }
   ],
   "source": [
    "###############\n",
    "### VarQITE ###\n",
    "###############\n",
    "# This is the non-TC Hamiltonian.\n",
    "\n",
    "# The 2 main tunable parameters\n",
    "total_time=5\n",
    "num_timesteps = 50\n",
    "\n",
    "var_principle = mc_lachlan.ImaginaryMcLachlanPrinciple(qgt=LinCombQGT(estimator), gradient=LinCombEstimatorGradient(estimator))\n",
    "time_evo = TimeEvolutionProblem(qubit_op2, \n",
    "                                time=total_time, \n",
    "                                aux_operators=[qubit_op2])\n",
    "qite = VarQITE(ansatz, init_param_values, \n",
    "               variational_principle = var_principle,\n",
    "               estimator=estimator, \n",
    "               num_timesteps=num_timesteps)\n",
    "result2 = qite.evolve(time_evo)"
   ]
  },
  {
   "cell_type": "code",
   "execution_count": 9,
   "metadata": {},
   "outputs": [
    {
     "name": "stdout",
     "output_type": "stream",
     "text": [
      "Initial time: 0.0, Initial energy: -1.9225216042673814\n"
     ]
    }
   ],
   "source": [
    "data = np.loadtxt(\"energy_trace_h2.dat\")\n",
    "avqite_times = data[:,0]\n",
    "avqite_energies = data[:,2]\n",
    "initial_time=data[0,0]\n",
    "initial_energy=data[0,2]\n",
    "print(f\"Initial time: {initial_time}, Initial energy: {initial_energy}\")"
   ]
  },
  {
   "cell_type": "code",
   "execution_count": 12,
   "metadata": {},
   "outputs": [
    {
     "name": "stdout",
     "output_type": "stream",
     "text": [
      "Final Qiskit electronic energy: -1.9371863629463095 Ha\n"
     ]
    },
    {
     "data": {
      "text/plain": [
       "(0.0, 5.099999999999998)"
      ]
     },
     "execution_count": 12,
     "metadata": {},
     "output_type": "execute_result"
    },
    {
     "data": {
      "image/png": "[encoded data removed]",
      "text/plain": [
       "<Figure size 500x700 with 2 Axes>"
      ]
     },
     "metadata": {},
     "output_type": "display_data"
    }
   ],
   "source": [
    "fig, axs = plt.subplots(2,1,sharex=True)\n",
    "fig.set_figheight(7)\n",
    "fig.set_figwidth(5)\n",
    "ax = axs[0]\n",
    "ax2 = axs[1]\n",
    "#DELTA_BIG = 50\n",
    "DELTA_BIG = 2\n",
    "sys = \"h2\"\n",
    "e_exact = {\"h2\": -1.9276748321, \"h4\": -4.3860854160}\n",
    "e_exact_notc = {\"h2\": -1.9009465237, \"h4\": None} \n",
    "\n",
    "# Readin from file\n",
    "#with open('h_exp_val.txt', 'r') as f:\n",
    "#    h_exp_val = [float(num) for line in f for num in line.strip('[] \\n').split()]\n",
    "#with open('times.txt', 'r') as g:\n",
    "#    times = [float(num) for line in g for num in line.strip('[] \\n').split()]\n",
    "\n",
    "h_exp_val = np.array([ele[0][0].real for ele in result.observables])\n",
    "times = result.times\n",
    "h_ex_val2 = np.array([ele[0][0].real for ele in result2.observables])\n",
    "times2 = result2.times\n",
    "\n",
    "ax.plot(times, h_exp_val, '-gs', label= \"Qiskit, UCCSD\", alpha=0.75) #+ extracted_transformer_energy+ nuclear_repulsion_energy\n",
    "ax.plot(times2, h_ex_val2, '-ro', label= \"Qiskit, no TC\", alpha=0.75) #+ extracted_transformer_energy+ nuclear_repulsion_energy\n",
    "ax.plot(avqite_times[::DELTA_BIG], avqite_energies[::DELTA_BIG], '-bd', label= \"Own, UCCSD\", alpha=0.75)\n",
    "ax.plot([e_exact[sys]]*(int(times[-1])+1), '--k', label= \"ED\")\n",
    "ax.plot([e_exact_notc[sys]]*(int(times[-1])+1), '--k')\n",
    "#ax.axhline(np_result.total_energies, ls='--', \n",
    "#           c='k', alpha=0.7, label='Groundstate')\n",
    "#ax.axhline(np_result.hartree_fock_energy, ls='--', \n",
    "#           c='r', alpha=0.7, label=\"Hartree-Fock\")\n",
    "\n",
    "#pylab.plot(times, exact_h_exp_val , label= \"Exact\",  linestyle='--')\n",
    "ax.set_ylabel(r\"$\\langle H_e \\rangle$ (Ha)\")\n",
    "ax.legend()#(loc=\"upper right\")\n",
    "ax.set_xlim([0, times[-1]])\n",
    "print(f\"Final Qiskit electronic energy: {h_exp_val[-1]} Ha\")\n",
    "#print(f\"Compare with Qutip ED: -4.3860854160 Ha\")\n",
    "#print(f\"Compare with TC-VarQITE for UCCSD: -4.3860791082 Ha\")\n",
    "\n",
    "\n",
    "ax2.plot(times, abs(h_exp_val-e_exact[sys]), \"-gs\", label= \"Qiskit, UCCSD\")\n",
    "ax2.plot(avqite_times[::DELTA_BIG], abs(avqite_energies-e_exact[sys])[::DELTA_BIG], \"-bd\", label= \"Own, UCCSD\", alpha=0.75)\n",
    "ax2.fill_between([0,times[-1]],[1e-3,1e-3],color=\"grey\",alpha=0.5,label=\"Comp. acc.\")\n",
    "ax2.set_xlabel(\"Imaginary seconds\")\n",
    "ax2.set_ylabel(r\"$|\\langle H_e \\rangle - E_{exact}^{TC}|$ (Ha)\")\n",
    "ax2.set_yscale(\"log\")\n",
    "ax2.legend()#(loc=\"upper right\")\n",
    "ax2.set_xlim([0, times[-1]])"
   ]
  }
 ],
 "metadata": {
  "kernelspec": {
   "display_name": ".venv",
   "language": "python",
   "name": "python3"
  },
  "language_info": {
   "codemirror_mode": {
    "name": "ipython",
    "version": 3
   },
   "file_extension": ".py",
   "mimetype": "text/x-python",
   "name": "python",
   "nbconvert_exporter": "python",
   "pygments_lexer": "ipython3",
   "version": "3.12.0"
  }
 },
 "nbformat": 4,
 "nbformat_minor": 2
}
